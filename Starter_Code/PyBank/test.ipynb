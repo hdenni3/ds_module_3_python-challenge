{
 "cells": [
  {
   "cell_type": "code",
   "execution_count": 28,
   "metadata": {},
   "outputs": [
    {
     "name": "stdout",
     "output_type": "stream",
     "text": [
      "Feb-10\n",
      "Mar-10\n",
      "Apr-10\n",
      "May-10\n",
      "Jun-10\n",
      "Jul-10\n",
      "Aug-10\n",
      "Sep-10\n",
      "Oct-10\n",
      "Nov-10\n",
      "Dec-10\n",
      "Jan-11\n",
      "Feb-11\n",
      "Mar-11\n",
      "Apr-11\n",
      "May-11\n",
      "Jun-11\n",
      "Jul-11\n",
      "Aug-11\n",
      "Sep-11\n",
      "Oct-11\n",
      "Nov-11\n",
      "Dec-11\n",
      "Jan-12\n",
      "Feb-12\n",
      "Mar-12\n",
      "Apr-12\n",
      "May-12\n",
      "Jun-12\n",
      "Jul-12\n",
      "Aug-12\n",
      "Sep-12\n",
      "Oct-12\n",
      "Nov-12\n",
      "Dec-12\n",
      "Jan-13\n",
      "Feb-13\n",
      "Mar-13\n",
      "Apr-13\n",
      "May-13\n",
      "Jun-13\n",
      "Jul-13\n",
      "Aug-13\n",
      "Sep-13\n",
      "Oct-13\n",
      "Nov-13\n",
      "Dec-13\n",
      "Jan-14\n",
      "Feb-14\n",
      "Mar-14\n",
      "Apr-14\n",
      "May-14\n",
      "Jun-14\n",
      "Jul-14\n",
      "Aug-14\n",
      "Sep-14\n",
      "Oct-14\n",
      "Nov-14\n",
      "Dec-14\n",
      "Jan-15\n",
      "Feb-15\n",
      "Mar-15\n",
      "Apr-15\n",
      "May-15\n",
      "Jun-15\n",
      "Jul-15\n",
      "Aug-15\n",
      "Sep-15\n",
      "Oct-15\n",
      "Nov-15\n",
      "Dec-15\n",
      "Jan-16\n",
      "Feb-16\n",
      "Mar-16\n",
      "Apr-16\n",
      "May-16\n",
      "Jun-16\n",
      "Jul-16\n",
      "Aug-16\n",
      "Sep-16\n",
      "Oct-16\n",
      "Nov-16\n",
      "Dec-16\n",
      "Jan-17\n",
      "Feb-17\n"
     ]
    }
   ],
   "source": [
    "import csv\n",
    "csv_file_path = \"./Resources/budget_data.csv\"\n",
    "# open csv file\n",
    "with open(csv_file_path, newline='') as csvfile:\n",
    "    csvreader = csv.reader(csvfile)\n",
    "    header = next(csvreader)\n",
    "    first_row =  next(csvreader)\n",
    "    for row in csvreader:\n",
    "        print(row[0])"
   ]
  },
  {
   "cell_type": "code",
   "execution_count": 21,
   "metadata": {},
   "outputs": [
    {
     "data": {
      "text/plain": [
       "['Date', 'Profit/Losses']"
      ]
     },
     "execution_count": 21,
     "metadata": {},
     "output_type": "execute_result"
    }
   ],
   "source": [
    "header"
   ]
  },
  {
   "cell_type": "code",
   "execution_count": 26,
   "metadata": {},
   "outputs": [
    {
     "data": {
      "text/plain": [
       "'1088983'"
      ]
     },
     "execution_count": 26,
     "metadata": {},
     "output_type": "execute_result"
    }
   ],
   "source": [
    "first_row[1]"
   ]
  },
  {
   "cell_type": "code",
   "execution_count": 23,
   "metadata": {},
   "outputs": [
    {
     "data": {
      "text/plain": [
       "['Feb-10', '-354534']"
      ]
     },
     "execution_count": 23,
     "metadata": {},
     "output_type": "execute_result"
    }
   ],
   "source": [
    "second_row"
   ]
  },
  {
   "cell_type": "code",
   "execution_count": 25,
   "metadata": {},
   "outputs": [
    {
     "name": "stdout",
     "output_type": "stream",
     "text": [
      "2\n",
      "4\n",
      "6\n",
      "8\n",
      "10\n"
     ]
    }
   ],
   "source": [
    "count = 0\n",
    "for i in range(5):\n",
    "    count+=2\n",
    "    print(count)"
   ]
  },
  {
   "cell_type": "code",
   "execution_count": null,
   "metadata": {},
   "outputs": [],
   "source": []
  }
 ],
 "metadata": {
  "kernelspec": {
   "display_name": "dev",
   "language": "python",
   "name": "python3"
  },
  "language_info": {
   "codemirror_mode": {
    "name": "ipython",
    "version": 3
   },
   "file_extension": ".py",
   "mimetype": "text/x-python",
   "name": "python",
   "nbconvert_exporter": "python",
   "pygments_lexer": "ipython3",
   "version": "3.10.14"
  }
 },
 "nbformat": 4,
 "nbformat_minor": 2
}
